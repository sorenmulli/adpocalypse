{
 "cells": [
  {
   "cell_type": "code",
   "execution_count": 3,
   "metadata": {},
   "outputs": [],
   "source": [
    "import pandas as pd \n",
    "import numpy as np \n",
    "import matplotlib.pyplot as plt \n",
    "import math\n",
    "import datetime\n",
    "from psaw import PushshiftAPI\n",
    "from __future__ import annotations\n",
    "import os\n",
    "import json"
   ]
  },
  {
   "cell_type": "code",
   "execution_count": 4,
   "metadata": {},
   "outputs": [],
   "source": [
    "\n",
    "def get_names(path: str = '' ) -> dict[str, list[str]]:\n",
    "    \"\"\"\n",
    "    Reads the character data base characters.json.\n",
    "    \"\"\"\n",
    "    with open(os.path.join(path, \"characters.json\"), \"r\") as f:\n",
    "        characters = json.load(f)\n",
    "    return characters\n",
    "\n",
    "def find_names(doc: str, name_db: dict[str, list[str]]) -> list[str]:\n",
    "    \"\"\"\n",
    "    Returns a list of all characters that were present in the document.\n",
    "    Characters are returned as full names and not as they were found.\n",
    "    \"\"\"\n",
    "    out = list()\n",
    "    for name, keys in name_db.items():\n",
    "        for k in keys:\n",
    "            if k in doc:\n",
    "                out.append(name)\n",
    "                break\n",
    "    return out\n"
   ]
  },
  {
   "cell_type": "code",
   "execution_count": 5,
   "metadata": {},
   "outputs": [],
   "source": [
    "api = PushshiftAPI()\n",
    "features = [\"title\", \"id\", \"score\", \"author\", \"created_utc\", \"selftext\"]\n",
    "subreddit = \"asoiaf\"\n",
    "date1 = int(datetime.datetime(2015,7,16).timestamp())\n",
    "date2 = int(datetime.datetime(2019,4,14).timestamp())\n",
    "gen = api.search_submissions(subreddit = subreddit, after = date1, before = date2, q='', filter = features, limit = 3 * 10**5)"
   ]
  },
  {
   "cell_type": "code",
   "execution_count": null,
   "metadata": {},
   "outputs": [
    {
     "name": "stderr",
     "output_type": "stream",
     "text": [
      "C:\\Users\\Oskar Wiese\\Anaconda3\\lib\\site-packages\\psaw\\PushshiftAPI.py:192: UserWarning: Got non 200 code 502\n",
      "  warnings.warn(\"Got non 200 code %s\" % response.status_code)\n",
      "C:\\Users\\Oskar Wiese\\Anaconda3\\lib\\site-packages\\psaw\\PushshiftAPI.py:180: UserWarning: Unable to connect to pushshift.io. Retrying after backoff.\n",
      "  warnings.warn(\"Unable to connect to pushshift.io. Retrying after backoff.\")\n"
     ]
    }
   ],
   "source": [
    "results = list(gen)"
   ]
  },
  {
   "cell_type": "code",
   "execution_count": null,
   "metadata": {},
   "outputs": [],
   "source": [
    "\n",
    "ids, title, score, author, created_utc, selftext = [], [], [], [], [], []\n",
    "for i in range(len(results)):\n",
    "    try:\n",
    "        selftext.append(results[i].d_['selftext'])\n",
    "        ids.append(i)\n",
    "        title.append(results[i].d_['title'])\n",
    "        score.append(results[i].d_['score'])\n",
    "        created_utc.append(results[i].d_['created_utc'])\n",
    "        author.append(results[i].d_['author'])\n",
    "    except KeyError:\n",
    "        pass\n",
    "        \n",
    "\n",
    "data = pd.DataFrame(\n",
    "{\n",
    "    \"id\" : ids,\n",
    "    \"title\" : title,\n",
    "    \"score\" : score,\n",
    "    \"created\" : created_utc,\n",
    "    \"author\" : author,\n",
    "    \"selftext\" : selftext\n",
    "}, index = None)"
   ]
  },
  {
   "cell_type": "code",
   "execution_count": null,
   "metadata": {},
   "outputs": [],
   "source": [
    "# To see amount of posts that acutally has text in selftext\n",
    "def get_usefull_data():\n",
    "    text_list = [text for text in data['selftext'] if text != '' ]\n",
    "    text_list = [text for text in text_list if text != '[removed]' ]\n",
    "    return len(text_list)\n",
    "\n",
    "def get_postw_names():\n",
    "    text_list = [text for text in data['names'] if text != [] ]\n",
    "    return len(text_list)\n",
    "get_usefull_data()"
   ]
  },
  {
   "cell_type": "code",
   "execution_count": null,
   "metadata": {},
   "outputs": [],
   "source": [
    "def mentioned_chars(df: pd.DataFrame) -> pd.DataFrame:\n",
    "    names = get_names()\n",
    "    row_name_finder = lambda row: find_names(row[\"selftext\"], names)\n",
    "    \n",
    "    df[\"names\"] = df.apply(row_name_finder, axis=1)\n",
    "    return df\n",
    "test = mentioned_chars(data)\n",
    "test"
   ]
  },
  {
   "cell_type": "code",
   "execution_count": null,
   "metadata": {},
   "outputs": [],
   "source": [
    "get_postw_names()"
   ]
  },
  {
   "cell_type": "code",
   "execution_count": null,
   "metadata": {},
   "outputs": [],
   "source": [
    "data.to_csv('asoiaf_data.csv',index=True)"
   ]
  },
  {
   "cell_type": "code",
   "execution_count": null,
   "metadata": {},
   "outputs": [],
   "source": []
  }
 ],
 "metadata": {
  "kernelspec": {
   "display_name": "Python 3",
   "language": "python",
   "name": "python3"
  },
  "language_info": {
   "codemirror_mode": {
    "name": "ipython",
    "version": 3
   },
   "file_extension": ".py",
   "mimetype": "text/x-python",
   "name": "python",
   "nbconvert_exporter": "python",
   "pygments_lexer": "ipython3",
   "version": "3.8.5"
  }
 },
 "nbformat": 4,
 "nbformat_minor": 4
}
