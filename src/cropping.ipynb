{
 "cells": [
  {
   "cell_type": "code",
   "execution_count": 14,
   "metadata": {},
   "outputs": [
    {
     "name": "stdout",
     "output_type": "stream",
     "text": [
      "../website/src/assets/Arya Stark_wordcloud.png\n",
      "../website/src/assets/Benjen Stark_wordcloud.png\n",
      "../website/src/assets/Brandon 'Bran' Stark_wordcloud.png\n",
      "../website/src/assets/Brienne of Tarth_wordcloud.png\n",
      "../website/src/assets/Bronn_wordcloud.png\n",
      "../website/src/assets/Catelyn Stark_wordcloud.png\n",
      "../website/src/assets/Cersei Lannister_wordcloud.png\n",
      "../website/src/assets/Daario Naharais_wordcloud.png\n",
      "../website/src/assets/Daenerys Targaryen_wordcloud.png\n",
      "../website/src/assets/Davos Seaworth_wordcloud.png\n",
      "../website/src/assets/Eddard 'Ned' Stark_wordcloud.png\n",
      "../website/src/assets/Gendry_wordcloud.png\n",
      "../website/src/assets/Jaime Lannister_wordcloud.png\n",
      "../website/src/assets/Jeor Mormont_wordcloud.png\n",
      "../website/src/assets/Joffrey Baratheon_wordcloud.png\n",
      "../website/src/assets/Jon Snow_wordcloud.png\n",
      "../website/src/assets/Jorah Mormont_wordcloud.png\n",
      "../website/src/assets/Margaery Tyrell_wordcloud.png\n",
      "../website/src/assets/Melisandre_wordcloud.png\n",
      "../website/src/assets/Petyr 'Littlefinger' Baelish_wordcloud.png\n",
      "../website/src/assets/Ramsay Bolton_wordcloud.png\n",
      "../website/src/assets/Robb Stark_wordcloud.png\n",
      "../website/src/assets/Robert Baratheon_wordcloud.png\n",
      "../website/src/assets/Samwell Tarly_wordcloud.png\n",
      "../website/src/assets/Sandor Clegane_wordcloud.png\n",
      "../website/src/assets/Sansa Stark_wordcloud.png\n",
      "../website/src/assets/Shae_wordcloud.png\n",
      "../website/src/assets/Stannis Baratheon_wordcloud.png\n",
      "../website/src/assets/Theon Greyjoy_wordcloud.png\n",
      "../website/src/assets/Tyrion Lannister_wordcloud.png\n",
      "../website/src/assets/Tywin Lannister_wordcloud.png\n",
      "../website/src/assets/Varys_wordcloud.png\n",
      "../website/src/assets/Viserys Targaryen_wordcloud.png\n",
      "../website/src/assets/Ygritte_wordcloud.png\n"
     ]
    }
   ],
   "source": [
    "from PIL import Image, ImageChops\n",
    "import json\n",
    "\n",
    "def trim(im):\n",
    "    bg = Image.new(im.mode, im.size, im.getpixel((0,0)))\n",
    "    diff = ImageChops.difference(im, bg)\n",
    "    diff = ImageChops.add(diff, diff, 2.0, -100)\n",
    "    bbox = diff.getbbox()\n",
    "    if bbox:\n",
    "        return im.crop(bbox)\n",
    "    return im\n",
    "\n",
    "with open('../website/src/assets/guessGame.json') as json_file:\n",
    "    data = json.load(json_file)\n",
    "    for p in data.values():\n",
    "        #print(\"../website/src/assets/\" + p)\n",
    "        im = Image.open(\"../website/src/assets/\" + p)\n",
    "        im = trim(im)\n",
    "        im.save(\"../website/src/assets/\" + p)\n",
    "        #im.show()"
   ]
  }
 ],
 "metadata": {
  "kernelspec": {
   "display_name": "Python 3",
   "language": "python",
   "name": "python3"
  },
  "language_info": {
   "codemirror_mode": {
    "name": "ipython",
    "version": 3
   },
   "file_extension": ".py",
   "mimetype": "text/x-python",
   "name": "python",
   "nbconvert_exporter": "python",
   "pygments_lexer": "ipython3",
   "version": "3.8.5"
  }
 },
 "nbformat": 4,
 "nbformat_minor": 4
}
