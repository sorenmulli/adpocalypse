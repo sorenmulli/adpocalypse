{
 "cells": [
  {
   "cell_type": "code",
   "execution_count": 3,
   "metadata": {},
   "outputs": [
    {
     "ename": "SyntaxError",
     "evalue": "EOL while scanning string literal (<ipython-input-3-d369b87a2e27>, line 25)",
     "output_type": "error",
     "traceback": [
      "\u001b[1;36m  File \u001b[1;32m\"<ipython-input-3-d369b87a2e27>\"\u001b[1;36m, line \u001b[1;32m25\u001b[0m\n\u001b[1;33m    print(\"..\\data\\\" + filename)\u001b[0m\n\u001b[1;37m                                ^\u001b[0m\n\u001b[1;31mSyntaxError\u001b[0m\u001b[1;31m:\u001b[0m EOL while scanning string literal\n"
     ]
    }
   ],
   "source": [
    "from PIL import Image, ImageChops\n",
    "import json\n",
    "import os\n",
    "\n",
    "def trim(im):\n",
    "    bg = Image.new(im.mode, im.size, im.getpixel((0,0)))\n",
    "    diff = ImageChops.difference(im, bg)\n",
    "    diff = ImageChops.add(diff, diff, 2.0, -100)\n",
    "    bbox = diff.getbbox()\n",
    "    if bbox:\n",
    "        return im.crop(bbox)\n",
    "    return im\n",
    "\n",
    "#with open('../website/src/assets/guessGame.json') as json_file:\n",
    "#    data = json.load(json_file)\n",
    "#    for p in data.values():\n",
    "#        #print(\"../website/src/assets/\" + p)\n",
    "#        im = Image.open(\"../website/src/assets/\" + p)\n",
    "#        im = trim(im)\n",
    "#        im.save(\"../website/src/assets/\" + p)\n",
    "#        #im.show()\n",
    "\n",
    "for filename in os.listdir(\"..\\data\"):\n",
    "    if filename.endswith(\".png\") and \"wordcloud\" in filename: \n",
    "        print(\"..\\data\\\" + filename)\n",
    "        im = Image.open(\"..\\data\\\" + filename)\n",
    "        im = trim(im)\n",
    "        im.save(\"..\\data\\\" + filename)"
   ]
  }
 ],
 "metadata": {
  "kernelspec": {
   "display_name": "Python 3",
   "language": "python",
   "name": "python3"
  },
  "language_info": {
   "codemirror_mode": {
    "name": "ipython",
    "version": 3
   },
   "file_extension": ".py",
   "mimetype": "text/x-python",
   "name": "python",
   "nbconvert_exporter": "python",
   "pygments_lexer": "ipython3",
   "version": "3.8.5"
  }
 },
 "nbformat": 4,
 "nbformat_minor": 4
}
